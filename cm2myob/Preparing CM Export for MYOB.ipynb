{
 "cells": [
  {
   "cell_type": "code",
   "execution_count": 1,
   "id": "9bae3cd7",
   "metadata": {},
   "outputs": [],
   "source": [
    "import pandas as pd\n",
    "from pathlib import Path\n",
    "input_file = Path.cwd()/'receipts.csv'\n",
    "df = pd.read_csv(input_file)"
   ]
  },
  {
   "cell_type": "markdown",
   "id": "159946c3",
   "metadata": {},
   "source": [
    "## Remove unwanted columns, add blank column and reorder"
   ]
  },
  {
   "cell_type": "code",
   "execution_count": 2,
   "id": "4ea07a29",
   "metadata": {},
   "outputs": [],
   "source": [
    "df.drop(['Given', 'Surname','Income','GST',], axis=1, inplace=True)"
   ]
  },
  {
   "cell_type": "code",
   "execution_count": 3,
   "id": "29f24796",
   "metadata": {},
   "outputs": [],
   "source": [
    "df[\"Cumulative\"] = \"\""
   ]
  },
  {
   "cell_type": "code",
   "execution_count": 4,
   "id": "fcf58809",
   "metadata": {},
   "outputs": [],
   "source": [
    "df=df[['Number', 'Paid by', 'Date', 'Paid','Cumulative','Type', 'Payment_Type','Issued_By', 'Merchant Ref', 'Notes']]"
   ]
  },
  {
   "cell_type": "code",
   "execution_count": 5,
   "id": "f525c2ff",
   "metadata": {
    "scrolled": false
   },
   "outputs": [
    {
     "data": {
      "text/html": [
       "<div>\n",
       "<style scoped>\n",
       "    .dataframe tbody tr th:only-of-type {\n",
       "        vertical-align: middle;\n",
       "    }\n",
       "\n",
       "    .dataframe tbody tr th {\n",
       "        vertical-align: top;\n",
       "    }\n",
       "\n",
       "    .dataframe thead th {\n",
       "        text-align: right;\n",
       "    }\n",
       "</style>\n",
       "<table border=\"1\" class=\"dataframe\">\n",
       "  <thead>\n",
       "    <tr style=\"text-align: right;\">\n",
       "      <th></th>\n",
       "      <th>Number</th>\n",
       "      <th>Paid by</th>\n",
       "      <th>Date</th>\n",
       "      <th>Paid</th>\n",
       "      <th>Cumulative</th>\n",
       "      <th>Type</th>\n",
       "      <th>Payment_Type</th>\n",
       "      <th>Issued_By</th>\n",
       "      <th>Merchant Ref</th>\n",
       "      <th>Notes</th>\n",
       "    </tr>\n",
       "  </thead>\n",
       "  <tbody>\n",
       "    <tr>\n",
       "      <th>0</th>\n",
       "      <td>7959</td>\n",
       "      <td>Carole Carson</td>\n",
       "      <td>2021-4-29 11:30:17</td>\n",
       "      <td>50.0</td>\n",
       "      <td></td>\n",
       "      <td>Income</td>\n",
       "      <td>credit card</td>\n",
       "      <td>Carole Carson</td>\n",
       "      <td>CM643280794_Carson</td>\n",
       "      <td>Enrolment into Craft and Coffee Club, starting...</td>\n",
       "    </tr>\n",
       "    <tr>\n",
       "      <th>1</th>\n",
       "      <td>7959</td>\n",
       "      <td>Carole Carson</td>\n",
       "      <td>2021-4-29 11:30:17</td>\n",
       "      <td>90.0</td>\n",
       "      <td></td>\n",
       "      <td>Income</td>\n",
       "      <td>credit card</td>\n",
       "      <td>Carole Carson</td>\n",
       "      <td>CM643280794_Carson</td>\n",
       "      <td>Enrolment into SPLC Day Trippers - Toodyay and...</td>\n",
       "    </tr>\n",
       "    <tr>\n",
       "      <th>2</th>\n",
       "      <td>7960</td>\n",
       "      <td>Meike Schoolland</td>\n",
       "      <td>2021-4-29 11:48:49</td>\n",
       "      <td>15.0</td>\n",
       "      <td></td>\n",
       "      <td>Income</td>\n",
       "      <td>credit card</td>\n",
       "      <td>Danielle Desvaux</td>\n",
       "      <td>CM089114821_Schoolland</td>\n",
       "      <td>Membership Payment for (1-May-2021 to 11-Jul-2...</td>\n",
       "    </tr>\n",
       "    <tr>\n",
       "      <th>3</th>\n",
       "      <td>7960</td>\n",
       "      <td>Meike Schoolland</td>\n",
       "      <td>2021-4-29 11:48:49</td>\n",
       "      <td>150.0</td>\n",
       "      <td></td>\n",
       "      <td>Income</td>\n",
       "      <td>credit card</td>\n",
       "      <td>Danielle Desvaux</td>\n",
       "      <td>CM089114821_Schoolland</td>\n",
       "      <td>Enrolment into French A2 Beginners Ongoing(L3)...</td>\n",
       "    </tr>\n",
       "    <tr>\n",
       "      <th>4</th>\n",
       "      <td>7961</td>\n",
       "      <td>Linda McNamara</td>\n",
       "      <td>2021-4-29 12:09:15</td>\n",
       "      <td>10.0</td>\n",
       "      <td></td>\n",
       "      <td>Saved</td>\n",
       "      <td>credit account</td>\n",
       "      <td>Didi Mudigdo</td>\n",
       "      <td>NaN</td>\n",
       "      <td>Enrolment Fee adjustment saved to credit accou...</td>\n",
       "    </tr>\n",
       "  </tbody>\n",
       "</table>\n",
       "</div>"
      ],
      "text/plain": [
       "   Number            Paid by                Date   Paid Cumulative    Type  \\\n",
       "0    7959      Carole Carson  2021-4-29 11:30:17   50.0             Income   \n",
       "1    7959      Carole Carson  2021-4-29 11:30:17   90.0             Income   \n",
       "2    7960   Meike Schoolland  2021-4-29 11:48:49   15.0             Income   \n",
       "3    7960   Meike Schoolland  2021-4-29 11:48:49  150.0             Income   \n",
       "4    7961     Linda McNamara  2021-4-29 12:09:15   10.0              Saved   \n",
       "\n",
       "     Payment_Type         Issued_By            Merchant Ref  \\\n",
       "0     credit card     Carole Carson      CM643280794_Carson   \n",
       "1     credit card     Carole Carson      CM643280794_Carson   \n",
       "2     credit card  Danielle Desvaux  CM089114821_Schoolland   \n",
       "3     credit card  Danielle Desvaux  CM089114821_Schoolland   \n",
       "4  credit account      Didi Mudigdo                     NaN   \n",
       "\n",
       "                                               Notes  \n",
       "0  Enrolment into Craft and Coffee Club, starting...  \n",
       "1  Enrolment into SPLC Day Trippers - Toodyay and...  \n",
       "2  Membership Payment for (1-May-2021 to 11-Jul-2...  \n",
       "3  Enrolment into French A2 Beginners Ongoing(L3)...  \n",
       "4  Enrolment Fee adjustment saved to credit accou...  "
      ]
     },
     "execution_count": 5,
     "metadata": {},
     "output_type": "execute_result"
    }
   ],
   "source": [
    "df.head()"
   ]
  },
  {
   "cell_type": "markdown",
   "id": "1edef597",
   "metadata": {},
   "source": [
    "## Filter out non-credit card transactions\n",
    "Now for the Boolean indexing. The rows we want to remove are 'Deposit'/'Saved' (from the Type column) and 'cash, 'EFT'/'cash' (from the Payment_Type) column. Constructing the Boolean index:"
   ]
  },
  {
   "cell_type": "code",
   "execution_count": 6,
   "id": "68e2f838",
   "metadata": {},
   "outputs": [],
   "source": [
    "cash = df['Payment_Type']=='cash'\n",
    "saved = df['Type']=='Saved'\n",
    "eft = df['Payment_Type']=='EFT'\n",
    "deposit = df['Type']=='Deposit'"
   ]
  },
  {
   "cell_type": "markdown",
   "id": "6fc9727a",
   "metadata": {},
   "source": [
    "And now apply and export:"
   ]
  },
  {
   "cell_type": "code",
   "execution_count": 7,
   "id": "294adcde",
   "metadata": {},
   "outputs": [],
   "source": [
    "df[~(cash|eft|saved|deposit)].to_csv('hurrah.csv',index=False)"
   ]
  },
  {
   "cell_type": "code",
   "execution_count": null,
   "id": "e676ca66",
   "metadata": {},
   "outputs": [],
   "source": []
  }
 ],
 "metadata": {
  "kernelspec": {
   "display_name": "Python 3",
   "language": "python",
   "name": "python3"
  },
  "language_info": {
   "codemirror_mode": {
    "name": "ipython",
    "version": 3
   },
   "file_extension": ".py",
   "mimetype": "text/x-python",
   "name": "python",
   "nbconvert_exporter": "python",
   "pygments_lexer": "ipython3",
   "version": "3.8.5"
  }
 },
 "nbformat": 4,
 "nbformat_minor": 5
}
