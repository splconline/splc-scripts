{
 "cells": [
  {
   "cell_type": "code",
   "execution_count": 1,
   "id": "9bae3cd7",
   "metadata": {},
   "outputs": [],
   "source": [
    "import pandas as pd\n",
    "from pathlib import Path\n",
    "input_file = Path.cwd()/'receipts.csv'\n",
    "df = pd.read_csv(input_file)"
   ]
  },
  {
   "cell_type": "markdown",
   "id": "159946c3",
   "metadata": {},
   "source": [
    "## Remove unwanted columns, add blank column and reorder"
   ]
  },
  {
   "cell_type": "code",
   "execution_count": 2,
   "id": "4ea07a29",
   "metadata": {},
   "outputs": [],
   "source": [
    "df.drop(['Given', 'Surname','Income','GST',], axis=1, inplace=True)"
   ]
  },
  {
   "cell_type": "code",
   "execution_count": 3,
   "id": "29f24796",
   "metadata": {},
   "outputs": [],
   "source": [
    "df[\"Cumulative\"] = \"\""
   ]
  },
  {
   "cell_type": "code",
   "execution_count": 4,
   "id": "fcf58809",
   "metadata": {},
   "outputs": [],
   "source": [
    "df=df[['Number', 'Paid by', 'Date', 'Paid','Cumulative','Type', 'Payment_Type','Issued_By', 'Merchant Ref', 'Notes']]"
   ]
  },
  {
   "cell_type": "code",
   "execution_count": 5,
   "id": "f525c2ff",
   "metadata": {
    "scrolled": false
   },
   "outputs": [
    {
     "data": {
      "text/html": [
       "<div>\n",
       "<style scoped>\n",
       "    .dataframe tbody tr th:only-of-type {\n",
       "        vertical-align: middle;\n",
       "    }\n",
       "\n",
       "    .dataframe tbody tr th {\n",
       "        vertical-align: top;\n",
       "    }\n",
       "\n",
       "    .dataframe thead th {\n",
       "        text-align: right;\n",
       "    }\n",
       "</style>\n",
       "<table border=\"1\" class=\"dataframe\">\n",
       "  <thead>\n",
       "    <tr style=\"text-align: right;\">\n",
       "      <th></th>\n",
       "      <th>Number</th>\n",
       "      <th>Paid by</th>\n",
       "      <th>Date</th>\n",
       "      <th>Paid</th>\n",
       "      <th>Cumulative</th>\n",
       "      <th>Type</th>\n",
       "      <th>Payment_Type</th>\n",
       "      <th>Issued_By</th>\n",
       "      <th>Merchant Ref</th>\n",
       "      <th>Notes</th>\n",
       "    </tr>\n",
       "  </thead>\n",
       "  <tbody>\n",
       "    <tr>\n",
       "      <th>0</th>\n",
       "      <td>8013</td>\n",
       "      <td>Robert Oxford</td>\n",
       "      <td>2021-5-10 10:02:58</td>\n",
       "      <td>170.0</td>\n",
       "      <td></td>\n",
       "      <td>Income</td>\n",
       "      <td>credit card</td>\n",
       "      <td>Rika Wylde</td>\n",
       "      <td>CM170458119_Oxford</td>\n",
       "      <td>Enrolment into Drawing - Portraiture(AC35), st...</td>\n",
       "    </tr>\n",
       "    <tr>\n",
       "      <th>1</th>\n",
       "      <td>8014</td>\n",
       "      <td>Lesley Puglisi</td>\n",
       "      <td>2021-5-10 11:07:43</td>\n",
       "      <td>20.0</td>\n",
       "      <td></td>\n",
       "      <td>Income</td>\n",
       "      <td>credit card</td>\n",
       "      <td>Lesley Puglisi</td>\n",
       "      <td>CM930909418_Puglisi</td>\n",
       "      <td>Enrolment into Walking the Camino to Santiago ...</td>\n",
       "    </tr>\n",
       "    <tr>\n",
       "      <th>2</th>\n",
       "      <td>8015</td>\n",
       "      <td>Lorna Barnett</td>\n",
       "      <td>2021-5-10 11:36:26</td>\n",
       "      <td>15.0</td>\n",
       "      <td></td>\n",
       "      <td>Income</td>\n",
       "      <td>credit card</td>\n",
       "      <td>Didi Mudigdo</td>\n",
       "      <td>CM153909196_Barnett</td>\n",
       "      <td>Membership Payment for (1-May-2021 to 11-Jul-2...</td>\n",
       "    </tr>\n",
       "    <tr>\n",
       "      <th>3</th>\n",
       "      <td>8015</td>\n",
       "      <td>Lorna Barnett</td>\n",
       "      <td>2021-5-10 11:36:26</td>\n",
       "      <td>150.0</td>\n",
       "      <td></td>\n",
       "      <td>Income</td>\n",
       "      <td>credit card</td>\n",
       "      <td>Didi Mudigdo</td>\n",
       "      <td>CM153909196_Barnett</td>\n",
       "      <td>Enrolment into Italian C1 Advanced(L26), start...</td>\n",
       "    </tr>\n",
       "    <tr>\n",
       "      <th>4</th>\n",
       "      <td>8016</td>\n",
       "      <td>Frances Durrer</td>\n",
       "      <td>2021-5-10 12:42:31</td>\n",
       "      <td>15.0</td>\n",
       "      <td></td>\n",
       "      <td>Saved</td>\n",
       "      <td>credit account</td>\n",
       "      <td>Didi Mudigdo</td>\n",
       "      <td>NaN</td>\n",
       "      <td>Membership adjustment saved to credit account</td>\n",
       "    </tr>\n",
       "  </tbody>\n",
       "</table>\n",
       "</div>"
      ],
      "text/plain": [
       "   Number          Paid by                Date   Paid Cumulative    Type  \\\n",
       "0    8013    Robert Oxford  2021-5-10 10:02:58  170.0             Income   \n",
       "1    8014   Lesley Puglisi  2021-5-10 11:07:43   20.0             Income   \n",
       "2    8015    Lorna Barnett  2021-5-10 11:36:26   15.0             Income   \n",
       "3    8015    Lorna Barnett  2021-5-10 11:36:26  150.0             Income   \n",
       "4    8016   Frances Durrer  2021-5-10 12:42:31   15.0              Saved   \n",
       "\n",
       "     Payment_Type       Issued_By         Merchant Ref  \\\n",
       "0     credit card      Rika Wylde   CM170458119_Oxford   \n",
       "1     credit card  Lesley Puglisi  CM930909418_Puglisi   \n",
       "2     credit card    Didi Mudigdo  CM153909196_Barnett   \n",
       "3     credit card    Didi Mudigdo  CM153909196_Barnett   \n",
       "4  credit account    Didi Mudigdo                  NaN   \n",
       "\n",
       "                                               Notes  \n",
       "0  Enrolment into Drawing - Portraiture(AC35), st...  \n",
       "1  Enrolment into Walking the Camino to Santiago ...  \n",
       "2  Membership Payment for (1-May-2021 to 11-Jul-2...  \n",
       "3  Enrolment into Italian C1 Advanced(L26), start...  \n",
       "4      Membership adjustment saved to credit account  "
      ]
     },
     "execution_count": 5,
     "metadata": {},
     "output_type": "execute_result"
    }
   ],
   "source": [
    "df.head()"
   ]
  },
  {
   "cell_type": "markdown",
   "id": "1edef597",
   "metadata": {},
   "source": [
    "## Filter out non-credit card transactions\n",
    "Now for the Boolean indexing. The rows we want to remove are 'Deposit'/'Saved' (from the Type column) and 'cash, 'EFT'/'cash' (from the Payment_Type) column. Constructing the Boolean index:"
   ]
  },
  {
   "cell_type": "code",
   "execution_count": 6,
   "id": "68e2f838",
   "metadata": {},
   "outputs": [],
   "source": [
    "cash = df['Payment_Type']=='cash'\n",
    "cheque = df['Payment_Type']=='cheque'\n",
    "saved = df['Type']=='Saved'\n",
    "eft = df['Payment_Type']=='EFT'\n",
    "deposit = df['Type']=='Deposit'"
   ]
  },
  {
   "cell_type": "markdown",
   "id": "6fc9727a",
   "metadata": {},
   "source": [
    "And now apply and export:"
   ]
  },
  {
   "cell_type": "code",
   "execution_count": 7,
   "id": "294adcde",
   "metadata": {},
   "outputs": [],
   "source": [
    "df[~(cash|cheque|eft|saved|deposit)].to_csv('hurrah.csv',index=False)"
   ]
  }
 ],
 "metadata": {
  "kernelspec": {
   "display_name": "Python 3",
   "language": "python",
   "name": "python3"
  },
  "language_info": {
   "codemirror_mode": {
    "name": "ipython",
    "version": 3
   },
   "file_extension": ".py",
   "mimetype": "text/x-python",
   "name": "python",
   "nbconvert_exporter": "python",
   "pygments_lexer": "ipython3",
   "version": "3.8.5"
  }
 },
 "nbformat": 4,
 "nbformat_minor": 5
}
