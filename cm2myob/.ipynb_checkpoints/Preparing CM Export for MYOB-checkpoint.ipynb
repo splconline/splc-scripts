{
 "cells": [
  {
   "cell_type": "code",
   "execution_count": 1,
   "id": "9bae3cd7",
   "metadata": {},
   "outputs": [],
   "source": [
    "import pandas as pd\n",
    "from pathlib import Path\n",
    "input_file = Path.cwd()/'receipts.csv'\n",
    "df = pd.read_csv(input_file)"
   ]
  },
  {
   "cell_type": "markdown",
   "id": "159946c3",
   "metadata": {},
   "source": [
    "## Remove unwanted columns, add blank column and reorder"
   ]
  },
  {
   "cell_type": "code",
   "execution_count": 2,
   "id": "4ea07a29",
   "metadata": {},
   "outputs": [],
   "source": [
    "df.drop(['Given', 'Surname','Income','GST',], axis=1, inplace=True)"
   ]
  },
  {
   "cell_type": "code",
   "execution_count": 3,
   "id": "29f24796",
   "metadata": {},
   "outputs": [],
   "source": [
    "df[\"Cumulative\"] = \"\""
   ]
  },
  {
   "cell_type": "code",
   "execution_count": 4,
   "id": "fcf58809",
   "metadata": {},
   "outputs": [],
   "source": [
    "df=df[['Number', 'Paid by', 'Date', 'Paid','Cumulative','Type', 'Payment_Type','Issued_By', 'Merchant Ref', 'Notes']]"
   ]
  },
  {
   "cell_type": "code",
   "execution_count": 5,
   "id": "f525c2ff",
   "metadata": {
    "scrolled": false
   },
   "outputs": [
    {
     "data": {
      "text/html": [
       "<div>\n",
       "<style scoped>\n",
       "    .dataframe tbody tr th:only-of-type {\n",
       "        vertical-align: middle;\n",
       "    }\n",
       "\n",
       "    .dataframe tbody tr th {\n",
       "        vertical-align: top;\n",
       "    }\n",
       "\n",
       "    .dataframe thead th {\n",
       "        text-align: right;\n",
       "    }\n",
       "</style>\n",
       "<table border=\"1\" class=\"dataframe\">\n",
       "  <thead>\n",
       "    <tr style=\"text-align: right;\">\n",
       "      <th></th>\n",
       "      <th>Number</th>\n",
       "      <th>Paid by</th>\n",
       "      <th>Date</th>\n",
       "      <th>Paid</th>\n",
       "      <th>Cumulative</th>\n",
       "      <th>Type</th>\n",
       "      <th>Payment_Type</th>\n",
       "      <th>Issued_By</th>\n",
       "      <th>Merchant Ref</th>\n",
       "      <th>Notes</th>\n",
       "    </tr>\n",
       "  </thead>\n",
       "  <tbody>\n",
       "    <tr>\n",
       "      <th>0</th>\n",
       "      <td>7829</td>\n",
       "      <td>Karina Sysko</td>\n",
       "      <td>2021-4-15 8:45:48</td>\n",
       "      <td>160.0</td>\n",
       "      <td></td>\n",
       "      <td>Income</td>\n",
       "      <td>credit card</td>\n",
       "      <td>Pete Chuang</td>\n",
       "      <td>CM557819095_Sysko</td>\n",
       "      <td>Enrolment into Spanish B1 Intermediate - Thurs...</td>\n",
       "    </tr>\n",
       "    <tr>\n",
       "      <th>1</th>\n",
       "      <td>7830</td>\n",
       "      <td>Clive Ashford</td>\n",
       "      <td>2021-4-15 10:42:26</td>\n",
       "      <td>40.0</td>\n",
       "      <td></td>\n",
       "      <td>Income</td>\n",
       "      <td>credit card</td>\n",
       "      <td>Pete Chuang</td>\n",
       "      <td>CM078481693_Ashford</td>\n",
       "      <td>Membership Payment for (15-Apr-2021 to 15-Apr-...</td>\n",
       "    </tr>\n",
       "    <tr>\n",
       "      <th>2</th>\n",
       "      <td>7830</td>\n",
       "      <td>Clive Ashford</td>\n",
       "      <td>2021-4-15 10:42:26</td>\n",
       "      <td>160.0</td>\n",
       "      <td></td>\n",
       "      <td>Income</td>\n",
       "      <td>credit card</td>\n",
       "      <td>Pete Chuang</td>\n",
       "      <td>CM078481693_Ashford</td>\n",
       "      <td>Enrolment into Spanish A2 Beginners Ongoing(L2...</td>\n",
       "    </tr>\n",
       "    <tr>\n",
       "      <th>3</th>\n",
       "      <td>7831</td>\n",
       "      <td>Jeanette Ashford</td>\n",
       "      <td>2021-4-15 10:42:53</td>\n",
       "      <td>40.0</td>\n",
       "      <td></td>\n",
       "      <td>Income</td>\n",
       "      <td>credit card</td>\n",
       "      <td>Pete Chuang</td>\n",
       "      <td>CM415048282_Ashford</td>\n",
       "      <td>Membership Payment for (15-Apr-2021 to 15-Apr-...</td>\n",
       "    </tr>\n",
       "    <tr>\n",
       "      <th>4</th>\n",
       "      <td>7831</td>\n",
       "      <td>Jeanette Ashford</td>\n",
       "      <td>2021-4-15 10:42:53</td>\n",
       "      <td>160.0</td>\n",
       "      <td></td>\n",
       "      <td>Income</td>\n",
       "      <td>credit card</td>\n",
       "      <td>Pete Chuang</td>\n",
       "      <td>CM415048282_Ashford</td>\n",
       "      <td>Enrolment into Spanish A2 Beginners Ongoing(L2...</td>\n",
       "    </tr>\n",
       "  </tbody>\n",
       "</table>\n",
       "</div>"
      ],
      "text/plain": [
       "   Number            Paid by                Date   Paid Cumulative    Type  \\\n",
       "0    7829       Karina Sysko   2021-4-15 8:45:48  160.0             Income   \n",
       "1    7830      Clive Ashford  2021-4-15 10:42:26   40.0             Income   \n",
       "2    7830      Clive Ashford  2021-4-15 10:42:26  160.0             Income   \n",
       "3    7831   Jeanette Ashford  2021-4-15 10:42:53   40.0             Income   \n",
       "4    7831   Jeanette Ashford  2021-4-15 10:42:53  160.0             Income   \n",
       "\n",
       "  Payment_Type    Issued_By         Merchant Ref  \\\n",
       "0  credit card  Pete Chuang    CM557819095_Sysko   \n",
       "1  credit card  Pete Chuang  CM078481693_Ashford   \n",
       "2  credit card  Pete Chuang  CM078481693_Ashford   \n",
       "3  credit card  Pete Chuang  CM415048282_Ashford   \n",
       "4  credit card  Pete Chuang  CM415048282_Ashford   \n",
       "\n",
       "                                               Notes  \n",
       "0  Enrolment into Spanish B1 Intermediate - Thurs...  \n",
       "1  Membership Payment for (15-Apr-2021 to 15-Apr-...  \n",
       "2  Enrolment into Spanish A2 Beginners Ongoing(L2...  \n",
       "3  Membership Payment for (15-Apr-2021 to 15-Apr-...  \n",
       "4  Enrolment into Spanish A2 Beginners Ongoing(L2...  "
      ]
     },
     "execution_count": 5,
     "metadata": {},
     "output_type": "execute_result"
    }
   ],
   "source": [
    "df.head()"
   ]
  },
  {
   "cell_type": "markdown",
   "id": "1edef597",
   "metadata": {},
   "source": [
    "## Filter out non-credit card transactions\n",
    "Now for the Boolean indexing. The rows we want to remove are 'Deposit'/'Saved' (from the Type column) and 'cash, 'EFT'/'cash' (from the Payment_Type) column. Constructing the Boolean index:"
   ]
  },
  {
   "cell_type": "code",
   "execution_count": 6,
   "id": "68e2f838",
   "metadata": {},
   "outputs": [],
   "source": [
    "cash = df['Payment_Type']=='cash'\n",
    "cheque = df['Payment_Type']=='cheque'\n",
    "saved = df['Type']=='Saved'\n",
    "eft = df['Payment_Type']=='EFT'\n",
    "deposit = df['Type']=='Deposit'"
   ]
  },
  {
   "cell_type": "markdown",
   "id": "6fc9727a",
   "metadata": {},
   "source": [
    "And now apply and export:"
   ]
  },
  {
   "cell_type": "code",
   "execution_count": 7,
   "id": "294adcde",
   "metadata": {},
   "outputs": [],
   "source": [
    "df[~(cash|cheque|eft|saved|deposit)].to_csv('hurrah.csv',index=False)"
   ]
  },
  {
   "cell_type": "code",
   "execution_count": null,
   "id": "e676ca66",
   "metadata": {},
   "outputs": [],
   "source": []
  }
 ],
 "metadata": {
  "kernelspec": {
   "display_name": "Python 3",
   "language": "python",
   "name": "python3"
  },
  "language_info": {
   "codemirror_mode": {
    "name": "ipython",
    "version": 3
   },
   "file_extension": ".py",
   "mimetype": "text/x-python",
   "name": "python",
   "nbconvert_exporter": "python",
   "pygments_lexer": "ipython3",
   "version": "3.8.5"
  }
 },
 "nbformat": 4,
 "nbformat_minor": 5
}
