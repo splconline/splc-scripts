{
 "cells": [
  {
   "cell_type": "code",
   "execution_count": 1,
   "id": "9bae3cd7",
   "metadata": {},
   "outputs": [],
   "source": [
    "import pandas as pd\n",
    "from pathlib import Path\n",
    "input_file = Path.cwd()/'receipts.csv'\n",
    "df = pd.read_csv(input_file)"
   ]
  },
  {
   "cell_type": "markdown",
   "id": "159946c3",
   "metadata": {},
   "source": [
    "## Remove unwanted columns, add blank column and reorder"
   ]
  },
  {
   "cell_type": "code",
   "execution_count": 2,
   "id": "4ea07a29",
   "metadata": {},
   "outputs": [],
   "source": [
    "df.drop(['Given', 'Surname','Income','GST',], axis=1, inplace=True)"
   ]
  },
  {
   "cell_type": "code",
   "execution_count": 3,
   "id": "29f24796",
   "metadata": {},
   "outputs": [],
   "source": [
    "df[\"Cumulative\"] = \"\""
   ]
  },
  {
   "cell_type": "code",
   "execution_count": 4,
   "id": "fcf58809",
   "metadata": {},
   "outputs": [],
   "source": [
    "df=df[['Number', 'Paid by', 'Date', 'Paid','Cumulative','Type', 'Payment_Type','Issued_By', 'Merchant Ref', 'Notes']]"
   ]
  },
  {
   "cell_type": "code",
   "execution_count": 5,
   "id": "f525c2ff",
   "metadata": {
    "scrolled": false
   },
   "outputs": [
    {
     "data": {
      "text/html": [
       "<div>\n",
       "<style scoped>\n",
       "    .dataframe tbody tr th:only-of-type {\n",
       "        vertical-align: middle;\n",
       "    }\n",
       "\n",
       "    .dataframe tbody tr th {\n",
       "        vertical-align: top;\n",
       "    }\n",
       "\n",
       "    .dataframe thead th {\n",
       "        text-align: right;\n",
       "    }\n",
       "</style>\n",
       "<table border=\"1\" class=\"dataframe\">\n",
       "  <thead>\n",
       "    <tr style=\"text-align: right;\">\n",
       "      <th></th>\n",
       "      <th>Number</th>\n",
       "      <th>Paid by</th>\n",
       "      <th>Date</th>\n",
       "      <th>Paid</th>\n",
       "      <th>Cumulative</th>\n",
       "      <th>Type</th>\n",
       "      <th>Payment_Type</th>\n",
       "      <th>Issued_By</th>\n",
       "      <th>Merchant Ref</th>\n",
       "      <th>Notes</th>\n",
       "    </tr>\n",
       "  </thead>\n",
       "  <tbody>\n",
       "    <tr>\n",
       "      <th>0</th>\n",
       "      <td>7945</td>\n",
       "      <td>Vivien Findlay</td>\n",
       "      <td>2021-4-28 9:54:07</td>\n",
       "      <td>-10.0</td>\n",
       "      <td></td>\n",
       "      <td>Refund</td>\n",
       "      <td>cash</td>\n",
       "      <td>Didi Mudigdo</td>\n",
       "      <td>NaN</td>\n",
       "      <td>Enrolment Fee adjustment for RAC Presents - Yo...</td>\n",
       "    </tr>\n",
       "    <tr>\n",
       "      <th>1</th>\n",
       "      <td>7946</td>\n",
       "      <td>Celly O''Kane</td>\n",
       "      <td>2021-4-28 10:26:03</td>\n",
       "      <td>90.0</td>\n",
       "      <td></td>\n",
       "      <td>Income</td>\n",
       "      <td>credit card</td>\n",
       "      <td>Didi Mudigdo</td>\n",
       "      <td>CM266816771_O'Kane</td>\n",
       "      <td>Enrolment into Italian Conversation (Thursday)...</td>\n",
       "    </tr>\n",
       "    <tr>\n",
       "      <th>2</th>\n",
       "      <td>7947</td>\n",
       "      <td>Rod Kantor</td>\n",
       "      <td>2021-4-28 10:44:49</td>\n",
       "      <td>15.0</td>\n",
       "      <td></td>\n",
       "      <td>Income</td>\n",
       "      <td>credit card</td>\n",
       "      <td>Didi Mudigdo</td>\n",
       "      <td>CM329282921_Kantor</td>\n",
       "      <td>Membership Payment for (1-May-2021 to 11-Jul-2...</td>\n",
       "    </tr>\n",
       "    <tr>\n",
       "      <th>3</th>\n",
       "      <td>7947</td>\n",
       "      <td>Rod Kantor</td>\n",
       "      <td>2021-4-28 10:44:49</td>\n",
       "      <td>80.0</td>\n",
       "      <td></td>\n",
       "      <td>Income</td>\n",
       "      <td>credit card</td>\n",
       "      <td>Didi Mudigdo</td>\n",
       "      <td>CM329282921_Kantor</td>\n",
       "      <td>Enrolment into Mastering your iGadget(CT3), st...</td>\n",
       "    </tr>\n",
       "    <tr>\n",
       "      <th>4</th>\n",
       "      <td>7948</td>\n",
       "      <td>Elfie Collins</td>\n",
       "      <td>2021-4-28 10:53:16</td>\n",
       "      <td>-30.0</td>\n",
       "      <td></td>\n",
       "      <td>Used</td>\n",
       "      <td>credit account</td>\n",
       "      <td>Didi Mudigdo</td>\n",
       "      <td>NaN</td>\n",
       "      <td>Enrolment into Mastering your iGadget(CT3) CT3...</td>\n",
       "    </tr>\n",
       "  </tbody>\n",
       "</table>\n",
       "</div>"
      ],
      "text/plain": [
       "   Number          Paid by                Date  Paid Cumulative    Type  \\\n",
       "0    7945   Vivien Findlay   2021-4-28 9:54:07 -10.0             Refund   \n",
       "1    7946    Celly O''Kane  2021-4-28 10:26:03  90.0             Income   \n",
       "2    7947       Rod Kantor  2021-4-28 10:44:49  15.0             Income   \n",
       "3    7947       Rod Kantor  2021-4-28 10:44:49  80.0             Income   \n",
       "4    7948    Elfie Collins  2021-4-28 10:53:16 -30.0               Used   \n",
       "\n",
       "     Payment_Type     Issued_By        Merchant Ref  \\\n",
       "0            cash  Didi Mudigdo                 NaN   \n",
       "1     credit card  Didi Mudigdo  CM266816771_O'Kane   \n",
       "2     credit card  Didi Mudigdo  CM329282921_Kantor   \n",
       "3     credit card  Didi Mudigdo  CM329282921_Kantor   \n",
       "4  credit account  Didi Mudigdo                 NaN   \n",
       "\n",
       "                                               Notes  \n",
       "0  Enrolment Fee adjustment for RAC Presents - Yo...  \n",
       "1  Enrolment into Italian Conversation (Thursday)...  \n",
       "2  Membership Payment for (1-May-2021 to 11-Jul-2...  \n",
       "3  Enrolment into Mastering your iGadget(CT3), st...  \n",
       "4  Enrolment into Mastering your iGadget(CT3) CT3...  "
      ]
     },
     "execution_count": 5,
     "metadata": {},
     "output_type": "execute_result"
    }
   ],
   "source": [
    "df.head()"
   ]
  },
  {
   "cell_type": "markdown",
   "id": "1edef597",
   "metadata": {},
   "source": [
    "## Filter out non-credit card transactions\n",
    "Now for the Boolean indexing. The rows we want to remove are 'Deposit'/'Saved' (from the Type column) and 'cash, 'EFT'/'cash' (from the Payment_Type) column. Constructing the Boolean index:"
   ]
  },
  {
   "cell_type": "code",
   "execution_count": 6,
   "id": "68e2f838",
   "metadata": {},
   "outputs": [],
   "source": [
    "cash = df['Payment_Type']=='cash'\n",
    "saved = df['Type']=='Saved'\n",
    "eft = df['Payment_Type']=='EFT'\n",
    "deposit = df['Type']=='Deposit'"
   ]
  },
  {
   "cell_type": "markdown",
   "id": "6fc9727a",
   "metadata": {},
   "source": [
    "And now apply and export:"
   ]
  },
  {
   "cell_type": "code",
   "execution_count": 7,
   "id": "294adcde",
   "metadata": {},
   "outputs": [],
   "source": [
    "df[~(cash|eft|saved|deposit)].to_csv('hurrah.csv',index=False)"
   ]
  },
  {
   "cell_type": "code",
   "execution_count": null,
   "id": "e676ca66",
   "metadata": {},
   "outputs": [],
   "source": []
  }
 ],
 "metadata": {
  "kernelspec": {
   "display_name": "Python 3",
   "language": "python",
   "name": "python3"
  },
  "language_info": {
   "codemirror_mode": {
    "name": "ipython",
    "version": 3
   },
   "file_extension": ".py",
   "mimetype": "text/x-python",
   "name": "python",
   "nbconvert_exporter": "python",
   "pygments_lexer": "ipython3",
   "version": "3.8.5"
  }
 },
 "nbformat": 4,
 "nbformat_minor": 5
}
