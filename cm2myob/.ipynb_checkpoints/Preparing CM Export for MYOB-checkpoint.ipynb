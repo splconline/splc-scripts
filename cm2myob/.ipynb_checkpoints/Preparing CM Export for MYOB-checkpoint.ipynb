{
 "cells": [
  {
   "cell_type": "code",
   "execution_count": 1,
   "id": "9bae3cd7",
   "metadata": {},
   "outputs": [],
   "source": [
    "import pandas as pd\n",
    "from pathlib import Path\n",
    "input_file = Path.cwd()/'receipts.csv'\n",
    "df = pd.read_csv(input_file)"
   ]
  },
  {
   "cell_type": "markdown",
   "id": "159946c3",
   "metadata": {},
   "source": [
    "## Remove unwanted columns, add blank column and reorder"
   ]
  },
  {
   "cell_type": "code",
   "execution_count": 2,
   "id": "4ea07a29",
   "metadata": {},
   "outputs": [],
   "source": [
    "df.drop(['Given', 'Surname','Income','GST',], axis=1, inplace=True)"
   ]
  },
  {
   "cell_type": "code",
   "execution_count": 3,
   "id": "29f24796",
   "metadata": {},
   "outputs": [],
   "source": [
    "df[\"Cumulative\"] = \"\""
   ]
  },
  {
   "cell_type": "code",
   "execution_count": 4,
   "id": "fcf58809",
   "metadata": {},
   "outputs": [],
   "source": [
    "df=df[['Number', 'Paid by', 'Date', 'Paid','Cumulative','Type', 'Payment_Type','Issued_By', 'Merchant Ref', 'Notes']]"
   ]
  },
  {
   "cell_type": "code",
   "execution_count": 5,
   "id": "f525c2ff",
   "metadata": {
    "scrolled": false
   },
   "outputs": [
    {
     "data": {
      "text/html": [
       "<div>\n",
       "<style scoped>\n",
       "    .dataframe tbody tr th:only-of-type {\n",
       "        vertical-align: middle;\n",
       "    }\n",
       "\n",
       "    .dataframe tbody tr th {\n",
       "        vertical-align: top;\n",
       "    }\n",
       "\n",
       "    .dataframe thead th {\n",
       "        text-align: right;\n",
       "    }\n",
       "</style>\n",
       "<table border=\"1\" class=\"dataframe\">\n",
       "  <thead>\n",
       "    <tr style=\"text-align: right;\">\n",
       "      <th></th>\n",
       "      <th>Number</th>\n",
       "      <th>Paid by</th>\n",
       "      <th>Date</th>\n",
       "      <th>Paid</th>\n",
       "      <th>Cumulative</th>\n",
       "      <th>Type</th>\n",
       "      <th>Payment_Type</th>\n",
       "      <th>Issued_By</th>\n",
       "      <th>Merchant Ref</th>\n",
       "      <th>Notes</th>\n",
       "    </tr>\n",
       "  </thead>\n",
       "  <tbody>\n",
       "    <tr>\n",
       "      <th>0</th>\n",
       "      <td>10421</td>\n",
       "      <td>Wendy Quadrio</td>\n",
       "      <td>2022-4-1 16:56:28</td>\n",
       "      <td>20.0</td>\n",
       "      <td></td>\n",
       "      <td>Income</td>\n",
       "      <td>credit card</td>\n",
       "      <td>Wendy Quadrio</td>\n",
       "      <td>CM334471674_Quadrio</td>\n",
       "      <td>2 tickets for  \"Italian Movie - Pranzo di Ferr...</td>\n",
       "    </tr>\n",
       "    <tr>\n",
       "      <th>1</th>\n",
       "      <td>10422</td>\n",
       "      <td>Martin Moen</td>\n",
       "      <td>2022-4-1 19:41:36</td>\n",
       "      <td>175.0</td>\n",
       "      <td></td>\n",
       "      <td>Income</td>\n",
       "      <td>credit card</td>\n",
       "      <td>Martin Moen</td>\n",
       "      <td>CM540240720_Moen</td>\n",
       "      <td>Enrolment into \"Drawing- Portraiture (AC35)\", ...</td>\n",
       "    </tr>\n",
       "    <tr>\n",
       "      <th>2</th>\n",
       "      <td>10423</td>\n",
       "      <td>Carmela Winter</td>\n",
       "      <td>2022-4-2 9:05:53</td>\n",
       "      <td>160.0</td>\n",
       "      <td></td>\n",
       "      <td>Income</td>\n",
       "      <td>credit card</td>\n",
       "      <td>Carmela Winter</td>\n",
       "      <td>CM554326839_Winter</td>\n",
       "      <td>Enrolment into \"Italian B2 Intermediate Ongoin...</td>\n",
       "    </tr>\n",
       "    <tr>\n",
       "      <th>3</th>\n",
       "      <td>10424</td>\n",
       "      <td>Lyndall Andrews</td>\n",
       "      <td>2022-4-2 13:31:31</td>\n",
       "      <td>160.0</td>\n",
       "      <td></td>\n",
       "      <td>Income</td>\n",
       "      <td>credit card</td>\n",
       "      <td>Lyndall Andrews</td>\n",
       "      <td>CM749960412_Andrews</td>\n",
       "      <td>Enrolment into \"Mandarin for Fun (L43)\", start...</td>\n",
       "    </tr>\n",
       "    <tr>\n",
       "      <th>4</th>\n",
       "      <td>10425</td>\n",
       "      <td>Teresa Jones</td>\n",
       "      <td>2022-4-3 15:46:41</td>\n",
       "      <td>160.0</td>\n",
       "      <td></td>\n",
       "      <td>Income</td>\n",
       "      <td>credit card</td>\n",
       "      <td>Teresa Jones</td>\n",
       "      <td>CM660232150_Jones</td>\n",
       "      <td>Enrolment into \"French B2 Intermediate (L6)\", ...</td>\n",
       "    </tr>\n",
       "  </tbody>\n",
       "</table>\n",
       "</div>"
      ],
      "text/plain": [
       "   Number           Paid by               Date   Paid Cumulative    Type  \\\n",
       "0   10421     Wendy Quadrio  2022-4-1 16:56:28   20.0             Income   \n",
       "1   10422       Martin Moen  2022-4-1 19:41:36  175.0             Income   \n",
       "2   10423    Carmela Winter   2022-4-2 9:05:53  160.0             Income   \n",
       "3   10424   Lyndall Andrews  2022-4-2 13:31:31  160.0             Income   \n",
       "4   10425      Teresa Jones  2022-4-3 15:46:41  160.0             Income   \n",
       "\n",
       "  Payment_Type        Issued_By         Merchant Ref  \\\n",
       "0  credit card    Wendy Quadrio  CM334471674_Quadrio   \n",
       "1  credit card      Martin Moen     CM540240720_Moen   \n",
       "2  credit card   Carmela Winter   CM554326839_Winter   \n",
       "3  credit card  Lyndall Andrews  CM749960412_Andrews   \n",
       "4  credit card     Teresa Jones    CM660232150_Jones   \n",
       "\n",
       "                                               Notes  \n",
       "0  2 tickets for  \"Italian Movie - Pranzo di Ferr...  \n",
       "1  Enrolment into \"Drawing- Portraiture (AC35)\", ...  \n",
       "2  Enrolment into \"Italian B2 Intermediate Ongoin...  \n",
       "3  Enrolment into \"Mandarin for Fun (L43)\", start...  \n",
       "4  Enrolment into \"French B2 Intermediate (L6)\", ...  "
      ]
     },
     "execution_count": 5,
     "metadata": {},
     "output_type": "execute_result"
    }
   ],
   "source": [
    "df.head()"
   ]
  },
  {
   "cell_type": "markdown",
   "id": "5aef743d",
   "metadata": {},
   "source": [
    "Add the column `Allocate` to contain MYOB allocation information"
   ]
  },
  {
   "cell_type": "code",
   "execution_count": 19,
   "id": "24167908",
   "metadata": {},
   "outputs": [],
   "source": [
    "df['Allocate']=\"\""
   ]
  },
  {
   "cell_type": "markdown",
   "id": "61a4f86f",
   "metadata": {},
   "source": [
    "Populate Allocate with the course code (for now)"
   ]
  },
  {
   "cell_type": "code",
   "execution_count": 20,
   "id": "c43ce601",
   "metadata": {},
   "outputs": [],
   "source": [
    "df['Allocate'] = df['Notes'].str.extract(r'\\((.*?)\\)', expand=False).str.strip()"
   ]
  },
  {
   "cell_type": "markdown",
   "id": "aefe66f5",
   "metadata": {},
   "source": [
    "Check results"
   ]
  },
  {
   "cell_type": "code",
   "execution_count": 21,
   "id": "10f84bea",
   "metadata": {},
   "outputs": [
    {
     "data": {
      "text/html": [
       "<div>\n",
       "<style scoped>\n",
       "    .dataframe tbody tr th:only-of-type {\n",
       "        vertical-align: middle;\n",
       "    }\n",
       "\n",
       "    .dataframe tbody tr th {\n",
       "        vertical-align: top;\n",
       "    }\n",
       "\n",
       "    .dataframe thead th {\n",
       "        text-align: right;\n",
       "    }\n",
       "</style>\n",
       "<table border=\"1\" class=\"dataframe\">\n",
       "  <thead>\n",
       "    <tr style=\"text-align: right;\">\n",
       "      <th></th>\n",
       "      <th>Number</th>\n",
       "      <th>Paid by</th>\n",
       "      <th>Date</th>\n",
       "      <th>Paid</th>\n",
       "      <th>Cumulative</th>\n",
       "      <th>Type</th>\n",
       "      <th>Payment_Type</th>\n",
       "      <th>Issued_By</th>\n",
       "      <th>Merchant Ref</th>\n",
       "      <th>Notes</th>\n",
       "      <th>Allocate</th>\n",
       "    </tr>\n",
       "  </thead>\n",
       "  <tbody>\n",
       "    <tr>\n",
       "      <th>0</th>\n",
       "      <td>10421</td>\n",
       "      <td>Wendy Quadrio</td>\n",
       "      <td>2022-4-1 16:56:28</td>\n",
       "      <td>20.0</td>\n",
       "      <td></td>\n",
       "      <td>Income</td>\n",
       "      <td>credit card</td>\n",
       "      <td>Wendy Quadrio</td>\n",
       "      <td>CM334471674_Quadrio</td>\n",
       "      <td>2 tickets for  \"Italian Movie - Pranzo di Ferr...</td>\n",
       "      <td>AB10</td>\n",
       "    </tr>\n",
       "    <tr>\n",
       "      <th>1</th>\n",
       "      <td>10422</td>\n",
       "      <td>Martin Moen</td>\n",
       "      <td>2022-4-1 19:41:36</td>\n",
       "      <td>175.0</td>\n",
       "      <td></td>\n",
       "      <td>Income</td>\n",
       "      <td>credit card</td>\n",
       "      <td>Martin Moen</td>\n",
       "      <td>CM540240720_Moen</td>\n",
       "      <td>Enrolment into \"Drawing- Portraiture (AC35)\", ...</td>\n",
       "      <td>AC35</td>\n",
       "    </tr>\n",
       "    <tr>\n",
       "      <th>2</th>\n",
       "      <td>10423</td>\n",
       "      <td>Carmela Winter</td>\n",
       "      <td>2022-4-2 9:05:53</td>\n",
       "      <td>160.0</td>\n",
       "      <td></td>\n",
       "      <td>Income</td>\n",
       "      <td>credit card</td>\n",
       "      <td>Carmela Winter</td>\n",
       "      <td>CM554326839_Winter</td>\n",
       "      <td>Enrolment into \"Italian B2 Intermediate Ongoin...</td>\n",
       "      <td>L18</td>\n",
       "    </tr>\n",
       "    <tr>\n",
       "      <th>3</th>\n",
       "      <td>10424</td>\n",
       "      <td>Lyndall Andrews</td>\n",
       "      <td>2022-4-2 13:31:31</td>\n",
       "      <td>160.0</td>\n",
       "      <td></td>\n",
       "      <td>Income</td>\n",
       "      <td>credit card</td>\n",
       "      <td>Lyndall Andrews</td>\n",
       "      <td>CM749960412_Andrews</td>\n",
       "      <td>Enrolment into \"Mandarin for Fun (L43)\", start...</td>\n",
       "      <td>L43</td>\n",
       "    </tr>\n",
       "    <tr>\n",
       "      <th>4</th>\n",
       "      <td>10425</td>\n",
       "      <td>Teresa Jones</td>\n",
       "      <td>2022-4-3 15:46:41</td>\n",
       "      <td>160.0</td>\n",
       "      <td></td>\n",
       "      <td>Income</td>\n",
       "      <td>credit card</td>\n",
       "      <td>Teresa Jones</td>\n",
       "      <td>CM660232150_Jones</td>\n",
       "      <td>Enrolment into \"French B2 Intermediate (L6)\", ...</td>\n",
       "      <td>L6</td>\n",
       "    </tr>\n",
       "  </tbody>\n",
       "</table>\n",
       "</div>"
      ],
      "text/plain": [
       "   Number           Paid by               Date   Paid Cumulative    Type  \\\n",
       "0   10421     Wendy Quadrio  2022-4-1 16:56:28   20.0             Income   \n",
       "1   10422       Martin Moen  2022-4-1 19:41:36  175.0             Income   \n",
       "2   10423    Carmela Winter   2022-4-2 9:05:53  160.0             Income   \n",
       "3   10424   Lyndall Andrews  2022-4-2 13:31:31  160.0             Income   \n",
       "4   10425      Teresa Jones  2022-4-3 15:46:41  160.0             Income   \n",
       "\n",
       "  Payment_Type        Issued_By         Merchant Ref  \\\n",
       "0  credit card    Wendy Quadrio  CM334471674_Quadrio   \n",
       "1  credit card      Martin Moen     CM540240720_Moen   \n",
       "2  credit card   Carmela Winter   CM554326839_Winter   \n",
       "3  credit card  Lyndall Andrews  CM749960412_Andrews   \n",
       "4  credit card     Teresa Jones    CM660232150_Jones   \n",
       "\n",
       "                                               Notes Allocate  \n",
       "0  2 tickets for  \"Italian Movie - Pranzo di Ferr...     AB10  \n",
       "1  Enrolment into \"Drawing- Portraiture (AC35)\", ...     AC35  \n",
       "2  Enrolment into \"Italian B2 Intermediate Ongoin...      L18  \n",
       "3  Enrolment into \"Mandarin for Fun (L43)\", start...      L43  \n",
       "4  Enrolment into \"French B2 Intermediate (L6)\", ...       L6  "
      ]
     },
     "execution_count": 21,
     "metadata": {},
     "output_type": "execute_result"
    }
   ],
   "source": [
    "df.head()"
   ]
  },
  {
   "cell_type": "markdown",
   "id": "e9c28e0d",
   "metadata": {},
   "source": [
    "Now strip the digits"
   ]
  },
  {
   "cell_type": "code",
   "execution_count": 22,
   "id": "2c2c43a2",
   "metadata": {},
   "outputs": [],
   "source": [
    "df['Allocate'] = df['Allocate'].replace('(\\d+)','',regex=True)"
   ]
  },
  {
   "cell_type": "code",
   "execution_count": 23,
   "id": "ffbc5bb3",
   "metadata": {},
   "outputs": [
    {
     "data": {
      "text/html": [
       "<div>\n",
       "<style scoped>\n",
       "    .dataframe tbody tr th:only-of-type {\n",
       "        vertical-align: middle;\n",
       "    }\n",
       "\n",
       "    .dataframe tbody tr th {\n",
       "        vertical-align: top;\n",
       "    }\n",
       "\n",
       "    .dataframe thead th {\n",
       "        text-align: right;\n",
       "    }\n",
       "</style>\n",
       "<table border=\"1\" class=\"dataframe\">\n",
       "  <thead>\n",
       "    <tr style=\"text-align: right;\">\n",
       "      <th></th>\n",
       "      <th>Number</th>\n",
       "      <th>Paid by</th>\n",
       "      <th>Date</th>\n",
       "      <th>Paid</th>\n",
       "      <th>Cumulative</th>\n",
       "      <th>Type</th>\n",
       "      <th>Payment_Type</th>\n",
       "      <th>Issued_By</th>\n",
       "      <th>Merchant Ref</th>\n",
       "      <th>Notes</th>\n",
       "      <th>Allocate</th>\n",
       "    </tr>\n",
       "  </thead>\n",
       "  <tbody>\n",
       "    <tr>\n",
       "      <th>0</th>\n",
       "      <td>10421</td>\n",
       "      <td>Wendy Quadrio</td>\n",
       "      <td>2022-4-1 16:56:28</td>\n",
       "      <td>20.0</td>\n",
       "      <td></td>\n",
       "      <td>Income</td>\n",
       "      <td>credit card</td>\n",
       "      <td>Wendy Quadrio</td>\n",
       "      <td>CM334471674_Quadrio</td>\n",
       "      <td>2 tickets for  \"Italian Movie - Pranzo di Ferr...</td>\n",
       "      <td>AB</td>\n",
       "    </tr>\n",
       "    <tr>\n",
       "      <th>1</th>\n",
       "      <td>10422</td>\n",
       "      <td>Martin Moen</td>\n",
       "      <td>2022-4-1 19:41:36</td>\n",
       "      <td>175.0</td>\n",
       "      <td></td>\n",
       "      <td>Income</td>\n",
       "      <td>credit card</td>\n",
       "      <td>Martin Moen</td>\n",
       "      <td>CM540240720_Moen</td>\n",
       "      <td>Enrolment into \"Drawing- Portraiture (AC35)\", ...</td>\n",
       "      <td>AC</td>\n",
       "    </tr>\n",
       "    <tr>\n",
       "      <th>2</th>\n",
       "      <td>10423</td>\n",
       "      <td>Carmela Winter</td>\n",
       "      <td>2022-4-2 9:05:53</td>\n",
       "      <td>160.0</td>\n",
       "      <td></td>\n",
       "      <td>Income</td>\n",
       "      <td>credit card</td>\n",
       "      <td>Carmela Winter</td>\n",
       "      <td>CM554326839_Winter</td>\n",
       "      <td>Enrolment into \"Italian B2 Intermediate Ongoin...</td>\n",
       "      <td>L</td>\n",
       "    </tr>\n",
       "    <tr>\n",
       "      <th>3</th>\n",
       "      <td>10424</td>\n",
       "      <td>Lyndall Andrews</td>\n",
       "      <td>2022-4-2 13:31:31</td>\n",
       "      <td>160.0</td>\n",
       "      <td></td>\n",
       "      <td>Income</td>\n",
       "      <td>credit card</td>\n",
       "      <td>Lyndall Andrews</td>\n",
       "      <td>CM749960412_Andrews</td>\n",
       "      <td>Enrolment into \"Mandarin for Fun (L43)\", start...</td>\n",
       "      <td>L</td>\n",
       "    </tr>\n",
       "    <tr>\n",
       "      <th>4</th>\n",
       "      <td>10425</td>\n",
       "      <td>Teresa Jones</td>\n",
       "      <td>2022-4-3 15:46:41</td>\n",
       "      <td>160.0</td>\n",
       "      <td></td>\n",
       "      <td>Income</td>\n",
       "      <td>credit card</td>\n",
       "      <td>Teresa Jones</td>\n",
       "      <td>CM660232150_Jones</td>\n",
       "      <td>Enrolment into \"French B2 Intermediate (L6)\", ...</td>\n",
       "      <td>L</td>\n",
       "    </tr>\n",
       "  </tbody>\n",
       "</table>\n",
       "</div>"
      ],
      "text/plain": [
       "   Number           Paid by               Date   Paid Cumulative    Type  \\\n",
       "0   10421     Wendy Quadrio  2022-4-1 16:56:28   20.0             Income   \n",
       "1   10422       Martin Moen  2022-4-1 19:41:36  175.0             Income   \n",
       "2   10423    Carmela Winter   2022-4-2 9:05:53  160.0             Income   \n",
       "3   10424   Lyndall Andrews  2022-4-2 13:31:31  160.0             Income   \n",
       "4   10425      Teresa Jones  2022-4-3 15:46:41  160.0             Income   \n",
       "\n",
       "  Payment_Type        Issued_By         Merchant Ref  \\\n",
       "0  credit card    Wendy Quadrio  CM334471674_Quadrio   \n",
       "1  credit card      Martin Moen     CM540240720_Moen   \n",
       "2  credit card   Carmela Winter   CM554326839_Winter   \n",
       "3  credit card  Lyndall Andrews  CM749960412_Andrews   \n",
       "4  credit card     Teresa Jones    CM660232150_Jones   \n",
       "\n",
       "                                               Notes Allocate  \n",
       "0  2 tickets for  \"Italian Movie - Pranzo di Ferr...       AB  \n",
       "1  Enrolment into \"Drawing- Portraiture (AC35)\", ...       AC  \n",
       "2  Enrolment into \"Italian B2 Intermediate Ongoin...        L  \n",
       "3  Enrolment into \"Mandarin for Fun (L43)\", start...        L  \n",
       "4  Enrolment into \"French B2 Intermediate (L6)\", ...        L  "
      ]
     },
     "execution_count": 23,
     "metadata": {},
     "output_type": "execute_result"
    }
   ],
   "source": [
    "df"
   ]
  },
  {
   "cell_type": "markdown",
   "id": "1edef597",
   "metadata": {},
   "source": [
    "## Filter out non-credit card transactions\n",
    "Now for the Boolean indexing. The rows we want to remove are 'Deposit'/'Saved' (from the Type column) and 'cash, 'EFT'/'cash' (from the Payment_Type) column. Constructing the Boolean index:"
   ]
  },
  {
   "cell_type": "code",
   "execution_count": 6,
   "id": "68e2f838",
   "metadata": {},
   "outputs": [],
   "source": [
    "cash = df['Payment_Type']=='cash'\n",
    "cheque = df['Payment_Type']=='cheque'\n",
    "saved = df['Type']=='Saved'\n",
    "eft = df['Payment_Type']=='EFT'\n",
    "deposit = df['Type']=='Deposit'"
   ]
  },
  {
   "cell_type": "markdown",
   "id": "6fc9727a",
   "metadata": {},
   "source": [
    "And now apply and export:"
   ]
  },
  {
   "cell_type": "code",
   "execution_count": 7,
   "id": "294adcde",
   "metadata": {},
   "outputs": [],
   "source": [
    "df[~(cash|cheque|eft|saved|deposit)].to_csv('hurrah.csv',index=False)"
   ]
  },
  {
   "cell_type": "markdown",
   "id": "c64e50ed",
   "metadata": {},
   "source": [
    "(Just changing one little thing to test Git-Cola)"
   ]
  }
 ],
 "metadata": {
  "kernelspec": {
   "display_name": "Python 3",
   "language": "python",
   "name": "python3"
  },
  "language_info": {
   "codemirror_mode": {
    "name": "ipython",
    "version": 3
   },
   "file_extension": ".py",
   "mimetype": "text/x-python",
   "name": "python",
   "nbconvert_exporter": "python",
   "pygments_lexer": "ipython3",
   "version": "3.8.5"
  }
 },
 "nbformat": 4,
 "nbformat_minor": 5
}
