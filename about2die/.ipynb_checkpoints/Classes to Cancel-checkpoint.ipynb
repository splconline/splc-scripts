{
 "cells": [
  {
   "cell_type": "code",
   "execution_count": 1,
   "id": "021fae7f",
   "metadata": {},
   "outputs": [],
   "source": [
    "import pandas as pd\n",
    "from pathlib import Path\n",
    "input_file = Path.cwd()/'course_history.csv'\n",
    "df = pd.read_csv(input_file)"
   ]
  },
  {
   "cell_type": "code",
   "execution_count": 2,
   "id": "8a8ef332",
   "metadata": {},
   "outputs": [
    {
     "data": {
      "text/plain": [
       "Index(['Name', 'Code', 'Facilitator', 'Session', 'Time', 'Weeks', 'Run Time',\n",
       "       'Min Quota', 'Quota', 'Students', 'Members', 'Non-members', 'Waiting',\n",
       "       'Operating Cost'],\n",
       "      dtype='object')"
      ]
     },
     "execution_count": 2,
     "metadata": {},
     "output_type": "execute_result"
    }
   ],
   "source": [
    "df.columns"
   ]
  },
  {
   "cell_type": "code",
   "execution_count": 3,
   "id": "496b40b2",
   "metadata": {},
   "outputs": [],
   "source": [
    "df.drop(['Run Time','Quota','Members', 'Non-members', 'Waiting',\n",
    "       'Operating Cost'], axis=1, inplace=True)"
   ]
  },
  {
   "cell_type": "code",
   "execution_count": 4,
   "id": "be20df20",
   "metadata": {},
   "outputs": [],
   "source": [
    "df['Session'] = pd.to_datetime(df['Session'])"
   ]
  },
  {
   "cell_type": "code",
   "execution_count": 5,
   "id": "7505e124",
   "metadata": {},
   "outputs": [],
   "source": [
    "dying = df['Students'] < df['Min Quota']"
   ]
  },
  {
   "cell_type": "code",
   "execution_count": 6,
   "id": "4a118ad1",
   "metadata": {},
   "outputs": [],
   "source": [
    "df = df[dying].sort_values('Session')"
   ]
  },
  {
   "cell_type": "code",
   "execution_count": 7,
   "id": "d8ce4af6",
   "metadata": {},
   "outputs": [],
   "source": [
    "df.to_csv('hurrah.csv',index=False)"
   ]
  },
  {
   "cell_type": "code",
   "execution_count": 8,
   "id": "005a9383",
   "metadata": {},
   "outputs": [],
   "source": [
    "html = df.to_html(index=False)\n",
    "text_file = open(\"index.html\", 'w')\n",
    "text_file.write(html)\n",
    "text_file.close()"
   ]
  }
 ],
 "metadata": {
  "kernelspec": {
   "display_name": "Python 3",
   "language": "python",
   "name": "python3"
  },
  "language_info": {
   "codemirror_mode": {
    "name": "ipython",
    "version": 3
   },
   "file_extension": ".py",
   "mimetype": "text/x-python",
   "name": "python",
   "nbconvert_exporter": "python",
   "pygments_lexer": "ipython3",
   "version": "3.8.5"
  }
 },
 "nbformat": 4,
 "nbformat_minor": 5
}
