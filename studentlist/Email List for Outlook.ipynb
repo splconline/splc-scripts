{
 "cells": [
  {
   "cell_type": "code",
   "execution_count": 1,
   "id": "abbc09ef",
   "metadata": {},
   "outputs": [],
   "source": [
    "import pandas as pd\n",
    "from pathlib import Path\n",
    "input_file = Path.cwd()/'enrolments_all.csv'\n",
    "df = pd.read_csv(input_file)"
   ]
  },
  {
   "cell_type": "code",
   "execution_count": 2,
   "id": "b9093f38",
   "metadata": {},
   "outputs": [],
   "source": [
    "df['Email'] = df.Email.map(str) + \";\""
   ]
  },
  {
   "cell_type": "code",
   "execution_count": 3,
   "id": "ccb86bf3",
   "metadata": {},
   "outputs": [],
   "source": [
    "df.drop(['Title', 'Given', 'Surname', 'Mem_num', 'Street', 'Suburb', 'State',\n",
    "       'PostC', 'Phone', 'Mobile', 'Status', 'Paid', 'Creche',\n",
    "       'Notes'], axis=1, inplace=True)"
   ]
  },
  {
   "cell_type": "code",
   "execution_count": 4,
   "id": "b0885783",
   "metadata": {},
   "outputs": [],
   "source": [
    "df.to_csv('hurrah.csv',index=False)"
   ]
  },
  {
   "cell_type": "code",
   "execution_count": null,
   "id": "23ba2a68",
   "metadata": {},
   "outputs": [],
   "source": []
  }
 ],
 "metadata": {
  "kernelspec": {
   "display_name": "Python 3",
   "language": "python",
   "name": "python3"
  },
  "language_info": {
   "codemirror_mode": {
    "name": "ipython",
    "version": 3
   },
   "file_extension": ".py",
   "mimetype": "text/x-python",
   "name": "python",
   "nbconvert_exporter": "python",
   "pygments_lexer": "ipython3",
   "version": "3.9.4"
  }
 },
 "nbformat": 4,
 "nbformat_minor": 5
}
