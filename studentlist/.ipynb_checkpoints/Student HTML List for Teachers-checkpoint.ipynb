{
 "cells": [
  {
   "cell_type": "code",
   "execution_count": 1,
   "id": "15e6c82e",
   "metadata": {},
   "outputs": [],
   "source": [
    "import pandas as pd\n",
    "from pathlib import Path\n",
    "input_file = Path.cwd()/'a1beginners130pm.csv'"
   ]
  },
  {
   "cell_type": "markdown",
   "id": "604aac78",
   "metadata": {},
   "source": [
    "Read the dataframe, forcing the 'Phone' and 'Mobile' fields to be strings instead of int (so that 0413649692 doesn't become 413649692)"
   ]
  },
  {
   "cell_type": "code",
   "execution_count": null,
   "id": "7533711c",
   "metadata": {},
   "outputs": [],
   "source": [
    "df = pd.read_csv(input_file, dtype={'Phone': object,'Mobile':object})"
   ]
  },
  {
   "cell_type": "code",
   "execution_count": 2,
   "id": "33bed0a3",
   "metadata": {},
   "outputs": [
    {
     "data": {
      "text/plain": [
       "Index(['Title', 'Given', 'Surname', 'Mem_num', 'Street', 'Suburb', 'State',\n",
       "       'PostC', 'Email', 'Phone', 'Mobile', 'Status', 'Paid', 'Creche',\n",
       "       'Notes'],\n",
       "      dtype='object')"
      ]
     },
     "execution_count": 2,
     "metadata": {},
     "output_type": "execute_result"
    }
   ],
   "source": [
    "df.columns"
   ]
  },
  {
   "cell_type": "markdown",
   "id": "b19b2d04",
   "metadata": {},
   "source": [
    "Get rid of the fields that the teacher doesn't need"
   ]
  },
  {
   "cell_type": "code",
   "execution_count": 3,
   "id": "f1582750",
   "metadata": {},
   "outputs": [],
   "source": [
    "df.drop(['Title','Mem_num', 'Street', 'Suburb', 'State',\n",
    "       'PostC', 'Status', 'Paid', 'Creche',\n",
    "       'Notes'], axis=1, inplace=True)"
   ]
  },
  {
   "cell_type": "code",
   "execution_count": 4,
   "id": "32f3b0d4",
   "metadata": {},
   "outputs": [
    {
     "data": {
      "text/html": [
       "<div>\n",
       "<style scoped>\n",
       "    .dataframe tbody tr th:only-of-type {\n",
       "        vertical-align: middle;\n",
       "    }\n",
       "\n",
       "    .dataframe tbody tr th {\n",
       "        vertical-align: top;\n",
       "    }\n",
       "\n",
       "    .dataframe thead th {\n",
       "        text-align: right;\n",
       "    }\n",
       "</style>\n",
       "<table border=\"1\" class=\"dataframe\">\n",
       "  <thead>\n",
       "    <tr style=\"text-align: right;\">\n",
       "      <th></th>\n",
       "      <th>Given</th>\n",
       "      <th>Surname</th>\n",
       "      <th>Email</th>\n",
       "      <th>Phone</th>\n",
       "      <th>Mobile</th>\n",
       "    </tr>\n",
       "  </thead>\n",
       "  <tbody>\n",
       "    <tr>\n",
       "      <th>0</th>\n",
       "      <td>Paulette</td>\n",
       "      <td>Johnston</td>\n",
       "      <td>Paulettejohnston@hotmail.com</td>\n",
       "      <td>0449997889</td>\n",
       "      <td>0449997889</td>\n",
       "    </tr>\n",
       "    <tr>\n",
       "      <th>1</th>\n",
       "      <td>Frances</td>\n",
       "      <td>Jones</td>\n",
       "      <td>f.jones.manacor55@gmail.com</td>\n",
       "      <td>NaN</td>\n",
       "      <td>0418934627</td>\n",
       "    </tr>\n",
       "    <tr>\n",
       "      <th>2</th>\n",
       "      <td>Peta</td>\n",
       "      <td>Kimpton</td>\n",
       "      <td>petakimpton@gmail.com</td>\n",
       "      <td>423939784</td>\n",
       "      <td>0423939784</td>\n",
       "    </tr>\n",
       "    <tr>\n",
       "      <th>3</th>\n",
       "      <td>Cheyenne l’herpiniere</td>\n",
       "      <td>L’herpiniere</td>\n",
       "      <td>cheyennelh@yahoo.com</td>\n",
       "      <td>NaN</td>\n",
       "      <td>0448300516</td>\n",
       "    </tr>\n",
       "    <tr>\n",
       "      <th>4</th>\n",
       "      <td>Pauline</td>\n",
       "      <td>Murphy</td>\n",
       "      <td>paulinemurphy8@gmail.com</td>\n",
       "      <td>NaN</td>\n",
       "      <td>0404701340</td>\n",
       "    </tr>\n",
       "    <tr>\n",
       "      <th>5</th>\n",
       "      <td>Catherine Bridget</td>\n",
       "      <td>O'Neill</td>\n",
       "      <td>bridieoneill23@gmail.com</td>\n",
       "      <td>NaN</td>\n",
       "      <td>0417170037</td>\n",
       "    </tr>\n",
       "    <tr>\n",
       "      <th>6</th>\n",
       "      <td>Carmen</td>\n",
       "      <td>Sum-leggatt</td>\n",
       "      <td>csumlegg@gmail.com</td>\n",
       "      <td>NaN</td>\n",
       "      <td>0414637636</td>\n",
       "    </tr>\n",
       "    <tr>\n",
       "      <th>7</th>\n",
       "      <td>Stephanie</td>\n",
       "      <td>Tassell</td>\n",
       "      <td>steph.tassell@westnet.com.au</td>\n",
       "      <td>+61409290057</td>\n",
       "      <td>0409290057</td>\n",
       "    </tr>\n",
       "    <tr>\n",
       "      <th>8</th>\n",
       "      <td>Sydney</td>\n",
       "      <td>Tong</td>\n",
       "      <td>Smtong@iinet.com.au</td>\n",
       "      <td>NaN</td>\n",
       "      <td>0402899234</td>\n",
       "    </tr>\n",
       "  </tbody>\n",
       "</table>\n",
       "</div>"
      ],
      "text/plain": [
       "                   Given       Surname                         Email  \\\n",
       "0               Paulette      Johnston  Paulettejohnston@hotmail.com   \n",
       "1                Frances         Jones   f.jones.manacor55@gmail.com   \n",
       "2                   Peta       Kimpton         petakimpton@gmail.com   \n",
       "3  Cheyenne l’herpiniere  L’herpiniere          cheyennelh@yahoo.com   \n",
       "4                Pauline        Murphy      paulinemurphy8@gmail.com   \n",
       "5      Catherine Bridget       O'Neill      bridieoneill23@gmail.com   \n",
       "6                 Carmen   Sum-leggatt            csumlegg@gmail.com   \n",
       "7              Stephanie       Tassell  steph.tassell@westnet.com.au   \n",
       "8                 Sydney          Tong           Smtong@iinet.com.au   \n",
       "\n",
       "          Phone      Mobile  \n",
       "0    0449997889  0449997889  \n",
       "1           NaN  0418934627  \n",
       "2     423939784  0423939784  \n",
       "3           NaN  0448300516  \n",
       "4           NaN  0404701340  \n",
       "5           NaN  0417170037  \n",
       "6           NaN  0414637636  \n",
       "7  +61409290057  0409290057  \n",
       "8           NaN  0402899234  "
      ]
     },
     "execution_count": 4,
     "metadata": {},
     "output_type": "execute_result"
    }
   ],
   "source": [
    "df"
   ]
  },
  {
   "cell_type": "markdown",
   "id": "d20455cc",
   "metadata": {},
   "source": [
    "Export to HTML"
   ]
  },
  {
   "cell_type": "code",
   "execution_count": null,
   "id": "4f3549e1",
   "metadata": {},
   "outputs": [],
   "source": [
    "html = df.to_html(index=False)\n",
    "text_file = open(\"index.html\", \"w\")\n",
    "text_file.write(html)\n",
    "text_file.close()"
   ]
  },
  {
   "cell_type": "code",
   "execution_count": null,
   "id": "e8e36140",
   "metadata": {},
   "outputs": [],
   "source": []
  }
 ],
 "metadata": {
  "kernelspec": {
   "display_name": "Python 3",
   "language": "python",
   "name": "python3"
  },
  "language_info": {
   "codemirror_mode": {
    "name": "ipython",
    "version": 3
   },
   "file_extension": ".py",
   "mimetype": "text/x-python",
   "name": "python",
   "nbconvert_exporter": "python",
   "pygments_lexer": "ipython3",
   "version": "3.8.5"
  }
 },
 "nbformat": 4,
 "nbformat_minor": 5
}
