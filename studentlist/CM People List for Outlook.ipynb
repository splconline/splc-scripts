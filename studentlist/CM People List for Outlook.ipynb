{
 "cells": [
  {
   "cell_type": "code",
   "execution_count": 1,
   "id": "abbc09ef",
   "metadata": {},
   "outputs": [],
   "source": [
    "import pandas as pd\n",
    "from pathlib import Path\n",
    "input_file = Path.cwd()/'people.csv'\n",
    "df = pd.read_csv(input_file)"
   ]
  },
  {
   "cell_type": "code",
   "execution_count": 2,
   "id": "b9093f38",
   "metadata": {},
   "outputs": [],
   "source": [
    "df['Email'] = df.Email.map(str) + \";\""
   ]
  },
  {
   "cell_type": "code",
   "execution_count": 3,
   "id": "7eb3c051",
   "metadata": {},
   "outputs": [
    {
     "name": "stdout",
     "output_type": "stream",
     "text": [
      "<class 'pandas.core.frame.DataFrame'>\n",
      "RangeIndex: 34 entries, 0 to 33\n",
      "Data columns (total 15 columns):\n",
      " #   Column    Non-Null Count  Dtype  \n",
      "---  ------    --------------  -----  \n",
      " 0   Pers_num  34 non-null     int64  \n",
      " 1   Mem_Num   0 non-null      float64\n",
      " 2   Title     18 non-null     object \n",
      " 3   Given     34 non-null     object \n",
      " 4   Surname   34 non-null     object \n",
      " 5   Street    24 non-null     object \n",
      " 6   Suburb    28 non-null     object \n",
      " 7   State     34 non-null     object \n",
      " 8   PostC     29 non-null     object \n",
      " 9   Email     34 non-null     object \n",
      " 10  Phone     17 non-null     object \n",
      " 11  Mobile    34 non-null     object \n",
      " 12  Status    34 non-null     object \n",
      " 13  Mailouts  8 non-null      object \n",
      " 14  Comments  2 non-null      object \n",
      "dtypes: float64(1), int64(1), object(13)\n",
      "memory usage: 4.1+ KB\n"
     ]
    }
   ],
   "source": [
    "df.info()"
   ]
  },
  {
   "cell_type": "code",
   "execution_count": 4,
   "id": "b0ed0b26",
   "metadata": {},
   "outputs": [
    {
     "data": {
      "text/plain": [
       "Index(['Pers_num', 'Mem_Num', 'Title', 'Given', 'Surname', 'Street', 'Suburb',\n",
       "       'State', 'PostC', 'Email', 'Phone', 'Mobile', 'Status', 'Mailouts',\n",
       "       'Comments'],\n",
       "      dtype='object')"
      ]
     },
     "execution_count": 4,
     "metadata": {},
     "output_type": "execute_result"
    }
   ],
   "source": [
    "df.columns"
   ]
  },
  {
   "cell_type": "code",
   "execution_count": 5,
   "id": "ccb86bf3",
   "metadata": {},
   "outputs": [],
   "source": [
    "df.drop(['Pers_num', 'Mem_Num', 'Title', 'Given', 'Surname', 'Street', 'Suburb',\n",
    "       'State', 'PostC', 'Phone', 'Mobile', 'Status', 'Mailouts',\n",
    "       'Comments'], axis=1, inplace=True)"
   ]
  },
  {
   "cell_type": "code",
   "execution_count": 6,
   "id": "59b36acf",
   "metadata": {},
   "outputs": [
    {
     "data": {
      "text/html": [
       "<div>\n",
       "<style scoped>\n",
       "    .dataframe tbody tr th:only-of-type {\n",
       "        vertical-align: middle;\n",
       "    }\n",
       "\n",
       "    .dataframe tbody tr th {\n",
       "        vertical-align: top;\n",
       "    }\n",
       "\n",
       "    .dataframe thead th {\n",
       "        text-align: right;\n",
       "    }\n",
       "</style>\n",
       "<table border=\"1\" class=\"dataframe\">\n",
       "  <thead>\n",
       "    <tr style=\"text-align: right;\">\n",
       "      <th></th>\n",
       "      <th>Email</th>\n",
       "    </tr>\n",
       "  </thead>\n",
       "  <tbody>\n",
       "    <tr>\n",
       "      <th>0</th>\n",
       "      <td>barbarabrianarenson@gmail.com;</td>\n",
       "    </tr>\n",
       "    <tr>\n",
       "      <th>1</th>\n",
       "      <td>info@carlosarevalo.com;</td>\n",
       "    </tr>\n",
       "    <tr>\n",
       "      <th>2</th>\n",
       "      <td>dreabach@gmail.com;</td>\n",
       "    </tr>\n",
       "    <tr>\n",
       "      <th>3</th>\n",
       "      <td>dibailey@iinet.net.au;</td>\n",
       "    </tr>\n",
       "    <tr>\n",
       "      <th>4</th>\n",
       "      <td>atley07@bigpond.com;</td>\n",
       "    </tr>\n",
       "  </tbody>\n",
       "</table>\n",
       "</div>"
      ],
      "text/plain": [
       "                            Email\n",
       "0  barbarabrianarenson@gmail.com;\n",
       "1         info@carlosarevalo.com;\n",
       "2             dreabach@gmail.com;\n",
       "3          dibailey@iinet.net.au;\n",
       "4            atley07@bigpond.com;"
      ]
     },
     "execution_count": 6,
     "metadata": {},
     "output_type": "execute_result"
    }
   ],
   "source": [
    "df.head()"
   ]
  },
  {
   "cell_type": "code",
   "execution_count": 7,
   "id": "b0885783",
   "metadata": {},
   "outputs": [],
   "source": [
    "df.to_csv('hurrah.csv',index=False)"
   ]
  },
  {
   "cell_type": "code",
   "execution_count": null,
   "id": "23ba2a68",
   "metadata": {},
   "outputs": [],
   "source": []
  }
 ],
 "metadata": {
  "kernelspec": {
   "display_name": "Python 3",
   "language": "python",
   "name": "python3"
  },
  "language_info": {
   "codemirror_mode": {
    "name": "ipython",
    "version": 3
   },
   "file_extension": ".py",
   "mimetype": "text/x-python",
   "name": "python",
   "nbconvert_exporter": "python",
   "pygments_lexer": "ipython3",
   "version": "3.8.5"
  }
 },
 "nbformat": 4,
 "nbformat_minor": 5
}
