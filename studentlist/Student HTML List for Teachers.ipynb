{
 "cells": [
  {
   "cell_type": "code",
   "execution_count": 1,
   "id": "15e6c82e",
   "metadata": {},
   "outputs": [],
   "source": [
    "import pandas as pd\n",
    "from pathlib import Path\n",
    "input_file = Path.cwd()/'enrolments_all.csv'"
   ]
  },
  {
   "cell_type": "markdown",
   "id": "604aac78",
   "metadata": {},
   "source": [
    "Read the dataframe, forcing the 'Phone' and 'Mobile' fields to be strings instead of int (so that 0413649692 doesn't become 413649692)"
   ]
  },
  {
   "cell_type": "code",
   "execution_count": 2,
   "id": "7533711c",
   "metadata": {},
   "outputs": [],
   "source": [
    "df = pd.read_csv(input_file, dtype={'Phone': object,'Mobile':object})"
   ]
  },
  {
   "cell_type": "code",
   "execution_count": 3,
   "id": "33bed0a3",
   "metadata": {},
   "outputs": [
    {
     "data": {
      "text/plain": [
       "Index(['Title', 'Given', 'Surname', 'Mem_num', 'Street', 'Suburb', 'State',\n",
       "       'PostC', 'Email', 'Phone', 'Mobile', 'Status', 'Paid', 'Creche',\n",
       "       'Notes'],\n",
       "      dtype='object')"
      ]
     },
     "execution_count": 3,
     "metadata": {},
     "output_type": "execute_result"
    }
   ],
   "source": [
    "df.columns"
   ]
  },
  {
   "cell_type": "markdown",
   "id": "b19b2d04",
   "metadata": {},
   "source": [
    "Get rid of the fields that the teacher doesn't need"
   ]
  },
  {
   "cell_type": "code",
   "execution_count": 4,
   "id": "f1582750",
   "metadata": {},
   "outputs": [],
   "source": [
    "df.drop(['Title','Mem_num', 'Street', 'Suburb', 'State',\n",
    "       'PostC', 'Status', 'Paid', 'Creche',\n",
    "       'Notes'], axis=1, inplace=True)"
   ]
  },
  {
   "cell_type": "code",
   "execution_count": 5,
   "id": "32f3b0d4",
   "metadata": {},
   "outputs": [],
   "source": [
    "df=df.fillna(\"\")"
   ]
  },
  {
   "cell_type": "markdown",
   "id": "d20455cc",
   "metadata": {},
   "source": [
    "Export to HTML"
   ]
  },
  {
   "cell_type": "code",
   "execution_count": 6,
   "id": "d4f0f9e3",
   "metadata": {},
   "outputs": [],
   "source": [
    "html = df.to_html(index=False)\n",
    "text_file = open(\"index.html\", \"w\")\n",
    "text_file.write(html)\n",
    "text_file.close()"
   ]
  },
  {
   "cell_type": "code",
   "execution_count": null,
   "id": "eb384786",
   "metadata": {},
   "outputs": [],
   "source": []
  }
 ],
 "metadata": {
  "kernelspec": {
   "display_name": "Python 3",
   "language": "python",
   "name": "python3"
  },
  "language_info": {
   "codemirror_mode": {
    "name": "ipython",
    "version": 3
   },
   "file_extension": ".py",
   "mimetype": "text/x-python",
   "name": "python",
   "nbconvert_exporter": "python",
   "pygments_lexer": "ipython3",
   "version": "3.8.5"
  }
 },
 "nbformat": 4,
 "nbformat_minor": 5
}
